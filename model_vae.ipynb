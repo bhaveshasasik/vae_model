{
 "cells": [
  {
   "cell_type": "markdown",
   "metadata": {
    "id": "68T-QoWtUa2J"
   },
   "source": [
    "import packages"
   ]
  },
  {
   "cell_type": "code",
   "execution_count": null,
   "metadata": {
    "id": "88tI9G7nUc1P"
   },
   "outputs": [],
   "source": [
    "import numpy as np\n",
    "import pandas as pd\n",
    "import torch\n",
    "import torch.nn as nn\n",
    "from torch.utils.data import DataLoader, Dataset\n",
    "import torch.optim as optim"
   ]
  },
  {
   "cell_type": "markdown",
   "metadata": {
    "id": "tiZLto2QUdJx"
   },
   "source": [
    "prepare/process data\n",
    " - normalize numerical col\n",
    " - create one hot encoding\n",
    " - create feature matric"
   ]
  },
  {
   "cell_type": "code",
   "execution_count": null,
   "metadata": {
    "id": "3vW735wGUijH"
   },
   "outputs": [],
   "source": [
    "data = pd.read_csv(\"cleaned_data.csv\")\n",
    "print"
   ]
  },
  {
   "cell_type": "markdown",
   "metadata": {
    "id": "ALfG3dt4Ui9X"
   },
   "source": [
    "create vae model design\n",
    " - encoder\n",
    " - decoder\n",
    " - define loss function"
   ]
  },
  {
   "cell_type": "code",
   "execution_count": null,
   "metadata": {
    "id": "TjQ_W3zRVWFY"
   },
   "outputs": [],
   "source": []
  },
  {
   "cell_type": "markdown",
   "metadata": {
    "id": "TGw1VXzBVWxR"
   },
   "source": [
    "Training VAE\n",
    " - train model\n",
    "  - forward pas\n",
    "  - compute loss\n",
    "  - backpropogation\n",
    "  - run for # of epochs"
   ]
  },
  {
   "cell_type": "code",
   "execution_count": null,
   "metadata": {
    "id": "gAnkrZyPVZRN"
   },
   "outputs": [],
   "source": []
  },
  {
   "cell_type": "markdown",
   "metadata": {
    "id": "KENgfAHHVq0H"
   },
   "source": [
    "Generate Latent Representations\n",
    "- evaluate user preferences\n",
    "- compare with other movies"
   ]
  },
  {
   "cell_type": "code",
   "execution_count": null,
   "metadata": {
    "id": "tJ1ItQU5V76J"
   },
   "outputs": [],
   "source": []
  },
  {
   "cell_type": "markdown",
   "metadata": {
    "id": "E2x5kFG7V9KV"
   },
   "source": [
    "Content-Based Recomendations\n",
    " - Compute Similarities\n",
    " - generate reccomendations\n"
   ]
  },
  {
   "cell_type": "code",
   "execution_count": null,
   "metadata": {
    "id": "4i3SmsPuWMDM"
   },
   "outputs": [],
   "source": []
  },
  {
   "cell_type": "markdown",
   "metadata": {
    "id": "DqTAieYeWPLf"
   },
   "source": [
    "Testing and Validations\n",
    " - Evaluate Reccomendations\n",
    " - Fine Tune Model"
   ]
  },
  {
   "cell_type": "code",
   "execution_count": null,
   "metadata": {
    "id": "FmOuSScsWfzz"
   },
   "outputs": [],
   "source": []
  }
 ],
 "metadata": {
  "colab": {
   "provenance": []
  },
  "kernelspec": {
   "display_name": "vae_model",
   "language": "python",
   "name": "python3"
  },
  "language_info": {
   "name": "python",
   "version": "3.12.7"
  }
 },
 "nbformat": 4,
 "nbformat_minor": 0
}
