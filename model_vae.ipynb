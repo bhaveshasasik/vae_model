{
  "nbformat": 4,
  "nbformat_minor": 0,
  "metadata": {
    "colab": {
      "provenance": []
    },
    "kernelspec": {
      "name": "python3",
      "display_name": "Python 3"
    },
    "language_info": {
      "name": "python"
    }
  },
  "cells": [
    {
      "cell_type": "markdown",
      "source": [
        "install packagees"
      ],
      "metadata": {
        "id": "68T-QoWtUa2J"
      }
    },
    {
      "cell_type": "code",
      "source": [
        "import numpy as np\n",
        "import pandas as pd\n",
        "import torch\n",
        "import torch.nn as nn\n",
        "from torch.utils.data import DataLoader, Dataset\n",
        "import torch.optim as optim"
      ],
      "metadata": {
        "id": "88tI9G7nUc1P"
      },
      "execution_count": null,
      "outputs": []
    },
    {
      "cell_type": "markdown",
      "source": [
        "prepare/process data\n",
        " - normalize numerical col\n",
        " - create one hot encoding\n",
        " - create feature matric"
      ],
      "metadata": {
        "id": "tiZLto2QUdJx"
      }
    },
    {
      "cell_type": "code",
      "source": [
        "data = pd.read_csv(\"cleaned_data.csv\")\n",
        "print"
      ],
      "metadata": {
        "id": "3vW735wGUijH"
      },
      "execution_count": null,
      "outputs": []
    },
    {
      "cell_type": "markdown",
      "source": [
        "create vae model design\n",
        " - encoder\n",
        " - decoder\n",
        " - define loss function"
      ],
      "metadata": {
        "id": "ALfG3dt4Ui9X"
      }
    },
    {
      "cell_type": "code",
      "source": [],
      "metadata": {
        "id": "TjQ_W3zRVWFY"
      },
      "execution_count": null,
      "outputs": []
    },
    {
      "cell_type": "markdown",
      "source": [
        "Training VAE\n",
        " - train model\n",
        "  - forward pas\n",
        "  - compute loss\n",
        "  - backpropogation\n",
        "  - run for # of epochs"
      ],
      "metadata": {
        "id": "TGw1VXzBVWxR"
      }
    },
    {
      "cell_type": "code",
      "source": [],
      "metadata": {
        "id": "gAnkrZyPVZRN"
      },
      "execution_count": null,
      "outputs": []
    },
    {
      "cell_type": "markdown",
      "source": [
        "Generate Latent Representations\n",
        "- evaluate user preferences\n",
        "- compare with other movies"
      ],
      "metadata": {
        "id": "KENgfAHHVq0H"
      }
    },
    {
      "cell_type": "code",
      "source": [],
      "metadata": {
        "id": "tJ1ItQU5V76J"
      },
      "execution_count": null,
      "outputs": []
    },
    {
      "cell_type": "markdown",
      "source": [
        "Content-Based Recomendations\n",
        " - Compute Similarities\n",
        " - generate reccomendations\n"
      ],
      "metadata": {
        "id": "E2x5kFG7V9KV"
      }
    },
    {
      "cell_type": "code",
      "source": [],
      "metadata": {
        "id": "4i3SmsPuWMDM"
      },
      "execution_count": null,
      "outputs": []
    },
    {
      "cell_type": "markdown",
      "source": [
        "Testing and Validations\n",
        " - Evaluate Reccomendations\n",
        " - Fine Tune Model"
      ],
      "metadata": {
        "id": "DqTAieYeWPLf"
      }
    },
    {
      "cell_type": "code",
      "source": [],
      "metadata": {
        "id": "FmOuSScsWfzz"
      },
      "execution_count": null,
      "outputs": []
    }
  ]
}