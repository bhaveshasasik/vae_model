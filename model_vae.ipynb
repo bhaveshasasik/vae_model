{
 "cells": [
  {
   "cell_type": "markdown",
   "metadata": {
    "id": "68T-QoWtUa2J"
   },
   "source": [
    "import packages"
   ]
  },
  {
   "cell_type": "code",
   "execution_count": null,
   "metadata": {
    "id": "88tI9G7nUc1P"
   },
   "outputs": [],
   "source": [
    "import pandas as pd\n",
    "\n",
    "import torch\n",
    "import torch.nn as nn\n",
    "import torch.nn.functional as F\n",
    "import torch.utils\n",
    "import torch.distributions\n",
    "import torchvision\n",
    "import numpy as np"
   ]
  },
  {
   "cell_type": "markdown",
   "metadata": {
    "id": "tiZLto2QUdJx"
   },
   "source": [
    "prepare/process data\n",
    " - normalize numerical col\n",
    " - create one hot encoding\n",
    " - create feature matric"
   ]
  },
  {
   "cell_type": "code",
   "execution_count": 2,
   "metadata": {
    "id": "3vW735wGUijH"
   },
   "outputs": [
    {
     "data": {
      "text/html": [
       "<div>\n",
       "<style scoped>\n",
       "    .dataframe tbody tr th:only-of-type {\n",
       "        vertical-align: middle;\n",
       "    }\n",
       "\n",
       "    .dataframe tbody tr th {\n",
       "        vertical-align: top;\n",
       "    }\n",
       "\n",
       "    .dataframe thead th {\n",
       "        text-align: right;\n",
       "    }\n",
       "</style>\n",
       "<table border=\"1\" class=\"dataframe\">\n",
       "  <thead>\n",
       "    <tr style=\"text-align: right;\">\n",
       "      <th></th>\n",
       "      <th>tconst</th>\n",
       "      <th>titleType</th>\n",
       "      <th>primaryTitle</th>\n",
       "      <th>isAdult</th>\n",
       "      <th>startYear</th>\n",
       "      <th>genres</th>\n",
       "      <th>directorNames</th>\n",
       "      <th>writerNames</th>\n",
       "      <th>averageRating</th>\n",
       "      <th>numVotes</th>\n",
       "    </tr>\n",
       "  </thead>\n",
       "  <tbody>\n",
       "    <tr>\n",
       "      <th>0</th>\n",
       "      <td>tt0000009</td>\n",
       "      <td>movie</td>\n",
       "      <td>Miss Jerry</td>\n",
       "      <td>0</td>\n",
       "      <td>1894</td>\n",
       "      <td>['Romance']</td>\n",
       "      <td>['Alexander Black']</td>\n",
       "      <td>['Alexander Black']</td>\n",
       "      <td>5.4</td>\n",
       "      <td>215</td>\n",
       "    </tr>\n",
       "    <tr>\n",
       "      <th>1</th>\n",
       "      <td>tt0000147</td>\n",
       "      <td>movie</td>\n",
       "      <td>The Corbett-Fitzsimmons Fight</td>\n",
       "      <td>0</td>\n",
       "      <td>1897</td>\n",
       "      <td>['Documentary', 'News', 'Sport']</td>\n",
       "      <td>['Enoch J. Rector']</td>\n",
       "      <td>[]</td>\n",
       "      <td>5.2</td>\n",
       "      <td>538</td>\n",
       "    </tr>\n",
       "    <tr>\n",
       "      <th>2</th>\n",
       "      <td>tt0000502</td>\n",
       "      <td>movie</td>\n",
       "      <td>Bohemios</td>\n",
       "      <td>0</td>\n",
       "      <td>1905</td>\n",
       "      <td>[]</td>\n",
       "      <td>['Ricardo de Baños']</td>\n",
       "      <td>['Ricardo de Baños', ' Miguel de Palacios', ' ...</td>\n",
       "      <td>4.4</td>\n",
       "      <td>18</td>\n",
       "    </tr>\n",
       "    <tr>\n",
       "      <th>3</th>\n",
       "      <td>tt0000574</td>\n",
       "      <td>movie</td>\n",
       "      <td>The Story of the Kelly Gang</td>\n",
       "      <td>0</td>\n",
       "      <td>1906</td>\n",
       "      <td>['Action', 'Adventure', 'Biography']</td>\n",
       "      <td>['Charles Tait']</td>\n",
       "      <td>['Charles Tait']</td>\n",
       "      <td>6.0</td>\n",
       "      <td>937</td>\n",
       "    </tr>\n",
       "    <tr>\n",
       "      <th>4</th>\n",
       "      <td>tt0000591</td>\n",
       "      <td>movie</td>\n",
       "      <td>The Prodigal Son</td>\n",
       "      <td>0</td>\n",
       "      <td>1907</td>\n",
       "      <td>['Drama']</td>\n",
       "      <td>['Michel Carré']</td>\n",
       "      <td>['Michel Carré']</td>\n",
       "      <td>5.7</td>\n",
       "      <td>28</td>\n",
       "    </tr>\n",
       "  </tbody>\n",
       "</table>\n",
       "</div>"
      ],
      "text/plain": [
       "      tconst titleType                   primaryTitle  isAdult  startYear  \\\n",
       "0  tt0000009     movie                     Miss Jerry        0       1894   \n",
       "1  tt0000147     movie  The Corbett-Fitzsimmons Fight        0       1897   \n",
       "2  tt0000502     movie                       Bohemios        0       1905   \n",
       "3  tt0000574     movie    The Story of the Kelly Gang        0       1906   \n",
       "4  tt0000591     movie               The Prodigal Son        0       1907   \n",
       "\n",
       "                                 genres         directorNames  \\\n",
       "0                           ['Romance']   ['Alexander Black']   \n",
       "1      ['Documentary', 'News', 'Sport']   ['Enoch J. Rector']   \n",
       "2                                    []  ['Ricardo de Baños']   \n",
       "3  ['Action', 'Adventure', 'Biography']      ['Charles Tait']   \n",
       "4                             ['Drama']      ['Michel Carré']   \n",
       "\n",
       "                                         writerNames  averageRating  numVotes  \n",
       "0                                ['Alexander Black']            5.4       215  \n",
       "1                                                 []            5.2       538  \n",
       "2  ['Ricardo de Baños', ' Miguel de Palacios', ' ...            4.4        18  \n",
       "3                                   ['Charles Tait']            6.0       937  \n",
       "4                                   ['Michel Carré']            5.7        28  "
      ]
     },
     "execution_count": 2,
     "metadata": {},
     "output_type": "execute_result"
    }
   ],
   "source": [
    "data = pd.read_csv(\"cleaned_data.csv\")\n",
    "data.head()"
   ]
  },
  {
   "cell_type": "markdown",
   "metadata": {
    "id": "ALfG3dt4Ui9X"
   },
   "source": [
    "create vae model design\n",
    " - encoder\n",
    " - decoder\n",
    " - define loss function"
   ]
  },
  {
   "cell_type": "code",
   "execution_count": null,
   "metadata": {
    "id": "TjQ_W3zRVWFY"
   },
   "outputs": [],
   "source": [
    "class Encoder(nn.Module):\n",
    "\n",
    "    def __init__( self, input_dim, hidden_dim, latent_dim ):\n",
    "        super(Encoder, self).__init__()\n",
    "        self.fc1 = nn.Linear(input_dim, hidden_dim)\n",
    "        self.fc_mu = nn.Linear(hidden_dim, latent_dim)      # Mean of latent distribution\n",
    "        self.fc_log_var = nn.Linear(hidden_dim, latent_dim) # Log variance of latent distribution\n",
    "\n",
    "    def forward(self, x):\n",
    "        h = F.relu(self.fc1(x))\n",
    "        mu = self.fc_mu(h)\n",
    "        log_var = self.fc_log_var(h)\n",
    "        return mu, log_var  # Return mean and log variance\n",
    "\n",
    "class Decoder(nn.Module):\n",
    "\n",
    "    def __init__( self, input_dim, hidden_dim, latent_dim ):\n",
    "        super(Decoder, self).__init__()\n",
    "        self.fc1 = nn.Linear(latent_dim, hidden_dim)\n",
    "        self.fc2 = nn.Linear(hidden_dim, input_dim)\n",
    "\n",
    "    def forward(self, z):\n",
    "        h = F.relu(self.fc1(z))  # Apply ReLU activation\n",
    "        # might want to change .softmax to .sigmoid\n",
    "        return torch.sigmoid(self.fc2(z))  # Return class probabilities\n",
    "\n",
    "class PartialVAE(nn.Module):\n",
    "    def __init__(self, input_dim, hidden_dim, latent_dim):\n",
    "        super(PartialVAE, self).__init__()\n",
    "        self.encoder = Encoder(input_dim, hidden_dim, latent_dim)\n",
    "        self.decoder = Decoder(input_dim, hidden_dim, latent_dim)\n",
    "\n",
    "    def reparameterize(self, mu, log_var):\n",
    "        std = torch.exp(0.5 * log_var)  # Standard deviation\n",
    "        epsilon = torch.randn_like(std)  # Random noise\n",
    "        return mu + epsilon * std  # Reparameterization trick\n",
    "\n",
    "    def forward(self, x, mask):\n",
    "        x_observed = x * mask #apply mask to only consider observed data\n",
    "        mu, log_var = self.encoder(x_observed)  # Encode input to latent distribution\n",
    "        z = self.reparameterize(mu, log_var)  # Sample latent variable\n",
    "        x_reconstructed = self.decoder(z)  # Decode back to input space\n",
    "        return x_reconstructed, mu, log_var  # Return reconstructed data, mean, and log variance\n",
    "\n",
    "def loss_function(x_reconstructed, x, mu, log_var, mask):\n",
    "    # Masked reconstruction loss (only consider observed values)\n",
    "    reconstruction_loss = F.binary_cross_entropy(\n",
    "        x_reconstructed * mask, x * mask, reduction=\"sum\"\n",
    "    )\n",
    "    # KL divergence for latent space regularization\n",
    "    kl_divergence = -0.5 * torch.sum(1 + log_var - mu.pow(2) - log_var.exp())\n",
    "    return reconstruction_loss + kl_divergence\n"
   ]
  },
  {
   "cell_type": "markdown",
   "metadata": {
    "id": "TGw1VXzBVWxR"
   },
   "source": [
    "Training VAE\n",
    " - train model\n",
    "  - forward pas\n",
    "  - compute loss\n",
    "  - backpropogation\n",
    "  - run for # of epochs"
   ]
  },
  {
   "cell_type": "code",
   "execution_count": null,
   "metadata": {
    "id": "gAnkrZyPVZRN"
   },
   "outputs": [],
   "source": [
    "# Andrew"
   ]
  },
  {
   "cell_type": "markdown",
   "metadata": {
    "id": "KENgfAHHVq0H"
   },
   "source": [
    "Generate Latent Representations\n",
    "- evaluate user preferences\n",
    "- compare with other movies"
   ]
  },
  {
   "cell_type": "code",
   "execution_count": null,
   "metadata": {
    "id": "tJ1ItQU5V76J"
   },
   "outputs": [],
   "source": []
  },
  {
   "cell_type": "markdown",
   "metadata": {
    "id": "E2x5kFG7V9KV"
   },
   "source": [
    "Content-Based Recomendations\n",
    " - Compute Similarities\n",
    " - generate reccomendations\n"
   ]
  },
  {
   "cell_type": "code",
   "execution_count": null,
   "metadata": {
    "id": "4i3SmsPuWMDM"
   },
   "outputs": [],
   "source": []
  },
  {
   "cell_type": "markdown",
   "metadata": {
    "id": "DqTAieYeWPLf"
   },
   "source": [
    "Testing and Validations\n",
    " - Evaluate Reccomendations\n",
    " - Fine Tune Model"
   ]
  },
  {
   "cell_type": "code",
   "execution_count": null,
   "metadata": {
    "id": "FmOuSScsWfzz"
   },
   "outputs": [],
   "source": []
  }
 ],
 "metadata": {
  "colab": {
   "provenance": []
  },
  "kernelspec": {
   "display_name": "vae_model",
   "language": "python",
   "name": "python3"
  },
  "language_info": {
   "codemirror_mode": {
    "name": "ipython",
    "version": 3
   },
   "file_extension": ".py",
   "mimetype": "text/x-python",
   "name": "python",
   "nbconvert_exporter": "python",
   "pygments_lexer": "ipython3",
   "version": "3.12.7"
  }
 },
 "nbformat": 4,
 "nbformat_minor": 0
}
