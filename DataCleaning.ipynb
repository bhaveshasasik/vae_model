{
 "cells": [
  {
   "cell_type": "code",
   "execution_count": 1,
   "id": "8655b9d9-19d0-4d1d-bf3c-424786a7a517",
   "metadata": {},
   "outputs": [
    {
     "name": "stdout",
     "output_type": "stream",
     "text": [
      "Dataset loaded successfully!\n"
     ]
    }
   ],
   "source": [
    "import pandas as pd\n",
    "try:\n",
    "    # Load the TSV file, excluding column 4 by specifying the columns you want to include\n",
    "    df = pd.read_csv('C:\\\\Users\\\\shaun\\\\Downloads\\\\title.basicsupdated.tsv',sep='\\t',usecols=lambda col: col not in ['endYear', 'runtimeMinutes','originalTitle'],dtype={'startYear': 'str','genres': 'str'},low_memory=False)    \n",
    "    print(\"Dataset loaded successfully!\")\n",
    "except UnicodeDecodeError as e:\n",
    "    print(\"Error loading dataset:\", e)"
   ]
  },
  {
   "cell_type": "code",
   "execution_count": null,
   "id": "46e98490-8689-4a37-8428-82f94e506543",
   "metadata": {
    "scrolled": true
   },
   "outputs": [],
   "source": [
    "print(df.head())"
   ]
  },
  {
   "cell_type": "code",
   "execution_count": 2,
   "id": "feb540bf-cf5a-4788-9c1d-7abb38ca93ba",
   "metadata": {},
   "outputs": [
    {
     "name": "stdout",
     "output_type": "stream",
     "text": [
      "      tconst  averageRating  numVotes\n",
      "0  tt0000001            5.7      2096\n",
      "1  tt0000002            5.6       282\n",
      "2  tt0000003            6.5      2112\n",
      "3  tt0000004            5.4       182\n",
      "4  tt0000005            6.2      2844\n",
      "      tconst  directors writers\n",
      "0  tt0000001  nm0005690      \\N\n",
      "1  tt0000002  nm0721526      \\N\n",
      "2  tt0000003  nm0721526      \\N\n",
      "3  tt0000004  nm0721526      \\N\n",
      "4  tt0000005  nm0005690      \\N\n",
      "      nconst      primaryName birthYear deathYear  \\\n",
      "0  nm0000001     Fred Astaire      1899      1987   \n",
      "1  nm0000002    Lauren Bacall      1924      2014   \n",
      "2  nm0000003  Brigitte Bardot      1934        \\N   \n",
      "3  nm0000004     John Belushi      1949      1982   \n",
      "4  nm0000005   Ingmar Bergman      1918      2007   \n",
      "\n",
      "                    primaryProfession                           knownForTitles  \n",
      "0        actor,miscellaneous,producer  tt0050419,tt0072308,tt0053137,tt0027125  \n",
      "1  actress,soundtrack,archive_footage  tt0037382,tt0075213,tt0117057,tt0038355  \n",
      "2   actress,music_department,producer  tt0057345,tt0049189,tt0056404,tt0054452  \n",
      "3       actor,writer,music_department  tt0072562,tt0077975,tt0080455,tt0078723  \n",
      "4               writer,director,actor  tt0050986,tt0069467,tt0083922,tt0050976  \n",
      "done\n"
     ]
    }
   ],
   "source": [
    "df2 = pd.read_csv('C:\\\\Users\\\\shaun\\\\Downloads\\\\title.ratings.tsv',sep='\\t')\n",
    "print(df2.head())\n",
    "df_crew = pd.read_csv('C:\\\\Users\\\\shaun\\\\Downloads\\\\title.crew.tsv', sep='\\t')\n",
    "df_names = pd.read_csv('C:\\\\Users\\\\shaun\\\\Downloads\\\\name.basics.tsv', sep='\\t')\n",
    "print(df_crew.head())\n",
    "print(df_names.head())\n",
    "print(\"done\")"
   ]
  },
  {
   "cell_type": "code",
   "execution_count": 6,
   "id": "7479cacc-302a-46f5-b71e-be86d45ec8fc",
   "metadata": {},
   "outputs": [
    {
     "name": "stdout",
     "output_type": "stream",
     "text": [
      "First step done\n",
      "Second step done\n"
     ]
    },
    {
     "ename": "NameError",
     "evalue": "name 'df_titles' is not defined",
     "output_type": "error",
     "traceback": [
      "\u001b[1;31m---------------------------------------------------------------------------\u001b[0m",
      "\u001b[1;31mNameError\u001b[0m                                 Traceback (most recent call last)",
      "Cell \u001b[1;32mIn[6], line 24\u001b[0m\n\u001b[0;32m     21\u001b[0m df_crew \u001b[38;5;241m=\u001b[39m df_crew\u001b[38;5;241m.\u001b[39mdrop(columns\u001b[38;5;241m=\u001b[39m[\u001b[38;5;124m'\u001b[39m\u001b[38;5;124mdirectors\u001b[39m\u001b[38;5;124m'\u001b[39m, \u001b[38;5;124m'\u001b[39m\u001b[38;5;124mwriters\u001b[39m\u001b[38;5;124m'\u001b[39m])\n\u001b[0;32m     23\u001b[0m \u001b[38;5;66;03m# Merge with `df_titles`\u001b[39;00m\n\u001b[1;32m---> 24\u001b[0m df_titles \u001b[38;5;241m=\u001b[39m df_titles\u001b[38;5;241m.\u001b[39mmerge(df_crew[[\u001b[38;5;124m'\u001b[39m\u001b[38;5;124mtconst\u001b[39m\u001b[38;5;124m'\u001b[39m, \u001b[38;5;124m'\u001b[39m\u001b[38;5;124mdirectorNames\u001b[39m\u001b[38;5;124m'\u001b[39m, \u001b[38;5;124m'\u001b[39m\u001b[38;5;124mwriterNames\u001b[39m\u001b[38;5;124m'\u001b[39m]], on\u001b[38;5;241m=\u001b[39m\u001b[38;5;124m'\u001b[39m\u001b[38;5;124mtconst\u001b[39m\u001b[38;5;124m'\u001b[39m, how\u001b[38;5;241m=\u001b[39m\u001b[38;5;124m'\u001b[39m\u001b[38;5;124mleft\u001b[39m\u001b[38;5;124m'\u001b[39m)\n\u001b[0;32m     26\u001b[0m \u001b[38;5;66;03m# Display the head of the resulting DataFrame\u001b[39;00m\n\u001b[0;32m     27\u001b[0m \u001b[38;5;28mprint\u001b[39m(df_titles\u001b[38;5;241m.\u001b[39mhead())\n",
      "\u001b[1;31mNameError\u001b[0m: name 'df_titles' is not defined"
     ]
    }
   ],
   "source": [
    "import pandas as pd\n",
    "\n",
    "# Assuming df_titles, df_crew, and df_names are already loaded\n",
    "\n",
    "# Replace \\N with NaN for better handling\n",
    "df_crew.replace('\\\\N', pd.NA, inplace=True)\n",
    "df_names.replace('\\\\N', pd.NA, inplace=True)\n",
    "print(\"First step done\")\n",
    "# Map the director and writer IDs to names\n",
    "df_names_dict = df_names.set_index('nconst')['primaryName'].to_dict()\n",
    "print(\"Second step done\")\n",
    "# Convert director and writer IDs in `df_crew` to names and concatenate them, handling NA values\n",
    "df_crew['directorNames'] = df_crew['directors'].apply(\n",
    "    lambda x: ', '.join([str(df_names_dict.get(d, '')) for d in x.split(',') if pd.notnull(d)]) if pd.notnull(x) else ''\n",
    ")\n",
    "df_crew['writerNames'] = df_crew['writers'].apply(\n",
    "    lambda x: ', '.join([str(df_names_dict.get(w, '')) for w in x.split(',') if pd.notnull(w)]) if pd.notnull(x) else ''\n",
    ")\n",
    "\n",
    "# Drop original `directors` and `writers` columns\n",
    "df_crew = df_crew.drop(columns=['directors', 'writers'])\n",
    "\n",
    "\n"
   ]
  },
  {
   "cell_type": "code",
   "execution_count": 7,
   "id": "9d187799-3a7b-4eec-91d2-e693e2f8c7b4",
   "metadata": {},
   "outputs": [
    {
     "name": "stdout",
     "output_type": "stream",
     "text": [
      "      tconst titleType            primaryTitle isAdult startYear  \\\n",
      "0  tt0000001     short              Carmencita       0      1894   \n",
      "1  tt0000002     short  Le clown et ses chiens       0      1892   \n",
      "2  tt0000003     short            Poor Pierrot       0      1892   \n",
      "3  tt0000004     short             Un bon bock       0      1892   \n",
      "4  tt0000005     short        Blacksmith Scene       0      1893   \n",
      "\n",
      "                     genres         directorNames writerNames  \n",
      "0         Documentary,Short  William K.L. Dickson              \n",
      "1           Animation,Short         Émile Reynaud              \n",
      "2  Animation,Comedy,Romance         Émile Reynaud              \n",
      "3           Animation,Short         Émile Reynaud              \n",
      "4              Comedy,Short  William K.L. Dickson              \n"
     ]
    }
   ],
   "source": [
    "# Merge with `df_titles`\n",
    "df_titles = df.merge(df_crew[['tconst', 'directorNames', 'writerNames']], on='tconst', how='left')\n",
    "\n",
    "# Display the head of the resulting DataFrame\n",
    "print(df_titles.head())"
   ]
  },
  {
   "cell_type": "code",
   "execution_count": 8,
   "id": "b07b2a6f-c72b-4704-a186-dc7320abc74b",
   "metadata": {},
   "outputs": [
    {
     "name": "stdout",
     "output_type": "stream",
     "text": [
      "      tconst titleType            primaryTitle isAdult startYear  \\\n",
      "0  tt0000001     short              Carmencita       0      1894   \n",
      "1  tt0000002     short  Le clown et ses chiens       0      1892   \n",
      "2  tt0000003     short            Poor Pierrot       0      1892   \n",
      "3  tt0000004     short             Un bon bock       0      1892   \n",
      "4  tt0000005     short        Blacksmith Scene       0      1893   \n",
      "\n",
      "                     genres         directorNames writerNames  averageRating  \\\n",
      "0         Documentary,Short  William K.L. Dickson                        5.7   \n",
      "1           Animation,Short         Émile Reynaud                        5.6   \n",
      "2  Animation,Comedy,Romance         Émile Reynaud                        6.5   \n",
      "3           Animation,Short         Émile Reynaud                        5.4   \n",
      "4              Comedy,Short  William K.L. Dickson                        6.2   \n",
      "\n",
      "   numVotes  \n",
      "0      2096  \n",
      "1       282  \n",
      "2      2112  \n",
      "3       182  \n",
      "4      2844  \n"
     ]
    }
   ],
   "source": [
    "# Join df and df2 on 'tconst'\n",
    "merged_df = pd.merge(df_titles, df2, on='tconst', how='inner')\n",
    "\n",
    "# Display the first few rows of the merged DataFrame\n",
    "print(merged_df.head())"
   ]
  },
  {
   "cell_type": "code",
   "execution_count": 9,
   "id": "b9eefd0a-b3dd-4b59-8032-e014f68e1c9f",
   "metadata": {},
   "outputs": [
    {
     "name": "stdout",
     "output_type": "stream",
     "text": [
      "        tconst titleType                   primaryTitle isAdult startYear  \\\n",
      "8    tt0000009     movie                     Miss Jerry       0      1894   \n",
      "144  tt0000147     movie  The Corbett-Fitzsimmons Fight       0      1897   \n",
      "339  tt0000502     movie                       Bohemios       0      1905   \n",
      "374  tt0000574     movie    The Story of the Kelly Gang       0      1906   \n",
      "384  tt0000591     movie               The Prodigal Son       0      1907   \n",
      "\n",
      "                         genres     directorNames  \\\n",
      "8                       Romance   Alexander Black   \n",
      "144      Documentary,News,Sport   Enoch J. Rector   \n",
      "339                          \\N  Ricardo de Baños   \n",
      "374  Action,Adventure,Biography      Charles Tait   \n",
      "384                       Drama      Michel Carré   \n",
      "\n",
      "                                           writerNames  averageRating  \\\n",
      "8                                      Alexander Black            5.4   \n",
      "144                                                               5.2   \n",
      "339  Ricardo de Baños, Miguel de Palacios, Guillerm...            4.4   \n",
      "374                                       Charles Tait            6.0   \n",
      "384                                       Michel Carré            5.7   \n",
      "\n",
      "     numVotes  \n",
      "8         215  \n",
      "144       538  \n",
      "339        18  \n",
      "374       937  \n",
      "384        28  \n"
     ]
    }
   ],
   "source": [
    "# Filter for specific title types\n",
    "filtered_df = merged_df[merged_df['titleType'].isin(['movie', 'tvmovie'])]\n",
    "\n",
    "# Display the first few rows of the filtered DataFrame\n",
    "print(filtered_df.head())\n",
    "filtered_df.to_csv('C:\\\\Users\\\\shaun\\\\Downloads\\\\movies_datasetnew.csv', sep=',', index=False)\n"
   ]
  },
  {
   "cell_type": "code",
   "execution_count": 14,
   "id": "d5e89719-2eaf-440e-a665-a78e4f03b3ab",
   "metadata": {},
   "outputs": [
    {
     "name": "stdout",
     "output_type": "stream",
     "text": [
      "tconst                           tt9860350\n",
      "titleType                            movie\n",
      "primaryTitle                    The Asadas\n",
      "isAdult                                  0\n",
      "startYear                             2020\n",
      "genres              Biography,Comedy,Drama\n",
      "directorNames                 Ryôta Nakano\n",
      "writerNames      Tomoe Kanno, Ryôta Nakano\n",
      "averageRating                          7.3\n",
      "numVotes                              1474\n",
      "Name: 1491906, dtype: object\n"
     ]
    }
   ],
   "source": [
    "print(filtered_df.iloc[318767])"
   ]
  },
  {
   "cell_type": "code",
   "execution_count": null,
   "id": "b1b6bbdf-2a45-4237-bbb7-147db4364ae8",
   "metadata": {},
   "outputs": [],
   "source": []
  }
 ],
 "metadata": {
  "kernelspec": {
   "display_name": "Python 3 (ipykernel)",
   "language": "python",
   "name": "python3"
  },
  "language_info": {
   "codemirror_mode": {
    "name": "ipython",
    "version": 3
   },
   "file_extension": ".py",
   "mimetype": "text/x-python",
   "name": "python",
   "nbconvert_exporter": "python",
   "pygments_lexer": "ipython3",
   "version": "3.12.4"
  }
 },
 "nbformat": 4,
 "nbformat_minor": 5
}
